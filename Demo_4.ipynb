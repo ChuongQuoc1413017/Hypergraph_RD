{
 "cells": [
  {
   "cell_type": "code",
   "execution_count": 1,
   "id": "eaee4d5d",
   "metadata": {},
   "outputs": [],
   "source": [
    "from HyperRD.Hgraph import *\n",
    "from HyperRD.Hmetric import *"
   ]
  },
  {
   "cell_type": "code",
   "execution_count": 2,
   "id": "86e63631",
   "metadata": {},
   "outputs": [],
   "source": [
    "graph = Create()\n",
    "graph.add_edge(['a', 'b', 'c'])\n",
    "graph.add_edge(['a', 'd'])\n",
    "graph.add_edge(['b', 'd', 'e'])\n",
    "graph.add_edge(['e', 'd', 'b'])\n",
    "graph.add_edge(['a'])\n",
    "graph.add_edge(['f', 'h'])\n",
    "graph.add_edge(['a', 'd', 'a'])"
   ]
  },
  {
   "cell_type": "code",
   "execution_count": 3,
   "id": "bcb3ec48",
   "metadata": {},
   "outputs": [
    {
     "data": {
      "text/plain": [
       "0.03937007874015748"
      ]
     },
     "execution_count": 3,
     "metadata": {},
     "output_type": "execute_result"
    }
   ],
   "source": [
    "density(graph)"
   ]
  },
  {
   "cell_type": "code",
   "execution_count": 4,
   "id": "a6a61184",
   "metadata": {},
   "outputs": [
    {
     "data": {
      "text/plain": [
       "1"
      ]
     },
     "execution_count": 4,
     "metadata": {},
     "output_type": "execute_result"
    }
   ],
   "source": [
    "girth(graph)"
   ]
  },
  {
   "cell_type": "code",
   "execution_count": 5,
   "id": "22843b76",
   "metadata": {},
   "outputs": [
    {
     "data": {
      "text/plain": [
       "2.2"
      ]
     },
     "execution_count": 5,
     "metadata": {},
     "output_type": "execute_result"
    }
   ],
   "source": [
    "average_edge_size(graph)"
   ]
  },
  {
   "cell_type": "code",
   "execution_count": 6,
   "id": "eae95db1",
   "metadata": {},
   "outputs": [
    {
     "data": {
      "text/plain": [
       "1.5714285714285714"
      ]
     },
     "execution_count": 6,
     "metadata": {},
     "output_type": "execute_result"
    }
   ],
   "source": [
    "average_vertex_degree(graph)"
   ]
  },
  {
   "cell_type": "code",
   "execution_count": null,
   "id": "ad605c92",
   "metadata": {},
   "outputs": [],
   "source": []
  }
 ],
 "metadata": {
  "kernelspec": {
   "display_name": "Python 3 (ipykernel)",
   "language": "python",
   "name": "python3"
  },
  "language_info": {
   "codemirror_mode": {
    "name": "ipython",
    "version": 3
   },
   "file_extension": ".py",
   "mimetype": "text/x-python",
   "name": "python",
   "nbconvert_exporter": "python",
   "pygments_lexer": "ipython3",
   "version": "3.11.4"
  }
 },
 "nbformat": 4,
 "nbformat_minor": 5
}
