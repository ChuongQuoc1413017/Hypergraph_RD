{
 "cells": [
  {
   "cell_type": "code",
   "execution_count": 1,
   "id": "eaee4d5d",
   "metadata": {},
   "outputs": [],
   "source": [
    "from HyperRD.Hrandom import *\n",
    "from HyperRD.Hgraph import *"
   ]
  },
  {
   "cell_type": "code",
   "execution_count": 2,
   "id": "86e63631",
   "metadata": {},
   "outputs": [],
   "source": [
    "multi_graph = Multilayer()"
   ]
  },
  {
   "cell_type": "code",
   "execution_count": 3,
   "id": "ccbc4189",
   "metadata": {},
   "outputs": [],
   "source": [
    "for i in range(4):\n",
    "    multi_graph.add_graph(simple_powersets(3, 0.5))"
   ]
  },
  {
   "cell_type": "code",
   "execution_count": 4,
   "id": "104bf35e",
   "metadata": {},
   "outputs": [
    {
     "name": "stdout",
     "output_type": "stream",
     "text": [
      "{frozenset({2}), frozenset({1, 2}), frozenset({0})}\n",
      "\n",
      "\n",
      "{frozenset({2}), frozenset({0, 1, 2}), frozenset({1, 2}), frozenset({0, 2}), frozenset({0})}\n",
      "\n",
      "\n",
      "{frozenset({0, 1})}\n",
      "\n",
      "\n",
      "{frozenset({0, 1, 2}), frozenset({0, 1}), frozenset({0, 2}), frozenset({1}), frozenset({0})}\n",
      "\n",
      "\n"
     ]
    }
   ],
   "source": [
    "for layer in multi_graph.layers:\n",
    "    print(layer.edges)\n",
    "    print('\\n')"
   ]
  },
  {
   "cell_type": "code",
   "execution_count": 5,
   "id": "2ebd97a0",
   "metadata": {},
   "outputs": [],
   "source": [
    "inter_edge = {0: (0, 1), 1: (1, 2, 3), 3:(2)}"
   ]
  },
  {
   "cell_type": "code",
   "execution_count": null,
   "id": "65cb629d",
   "metadata": {},
   "outputs": [],
   "source": []
  }
 ],
 "metadata": {
  "kernelspec": {
   "display_name": "Python 3 (ipykernel)",
   "language": "python",
   "name": "python3"
  },
  "language_info": {
   "codemirror_mode": {
    "name": "ipython",
    "version": 3
   },
   "file_extension": ".py",
   "mimetype": "text/x-python",
   "name": "python",
   "nbconvert_exporter": "python",
   "pygments_lexer": "ipython3",
   "version": "3.11.4"
  }
 },
 "nbformat": 4,
 "nbformat_minor": 5
}
