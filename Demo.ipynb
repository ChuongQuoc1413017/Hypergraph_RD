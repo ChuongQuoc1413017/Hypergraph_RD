{
 "cells": [
  {
   "cell_type": "code",
   "execution_count": 1,
   "id": "8ff12f5e",
   "metadata": {},
   "outputs": [],
   "source": [
    "from HyperRD.Hgraph import *\n",
    "from HyperRD.Halgorithm import *"
   ]
  },
  {
   "cell_type": "markdown",
   "id": "f865f059",
   "metadata": {},
   "source": [
    "# Example 1"
   ]
  },
  {
   "cell_type": "code",
   "execution_count": 9,
   "id": "c6c29cb7",
   "metadata": {},
   "outputs": [],
   "source": [
    "graph = Create()\n",
    "graph.add_edge(['a', 'b', 'c'])\n",
    "graph.add_edge(['a', 'd'])\n",
    "graph.add_edge(['b', 'd', 'e'])\n",
    "graph.add_edge(['e', 'd', 'b'])\n",
    "graph.add_edge(['a'])\n",
    "graph.add_edge(['f', 'h'])\n",
    "graph.add_edge(['a', 'd', 'a'])"
   ]
  },
  {
   "cell_type": "code",
   "execution_count": 3,
   "id": "bf6d1e8e",
   "metadata": {},
   "outputs": [
    {
     "data": {
      "text/plain": [
       "{0: 'a', 1: 'b', 2: 'c', 3: 'd', 4: 'e', 5: 'f', 6: 'h'}"
      ]
     },
     "execution_count": 3,
     "metadata": {},
     "output_type": "execute_result"
    }
   ],
   "source": [
    "graph.vertices_dict"
   ]
  },
  {
   "cell_type": "code",
   "execution_count": 7,
   "id": "0dab0eda",
   "metadata": {},
   "outputs": [
    {
     "data": {
      "text/plain": [
       "{'a', 'b', 'c', 'd', 'e', 'f', 'h'}"
      ]
     },
     "execution_count": 7,
     "metadata": {},
     "output_type": "execute_result"
    }
   ],
   "source": [
    "graph.vertices"
   ]
  },
  {
   "cell_type": "code",
   "execution_count": 4,
   "id": "ac375f5b",
   "metadata": {},
   "outputs": [
    {
     "data": {
      "text/plain": [
       "{0: frozenset({'f', 'h'}),\n",
       " 1: frozenset({'a', 'd'}),\n",
       " 2: frozenset({'b', 'd', 'e'}),\n",
       " 3: frozenset({'a', 'b', 'c'})}"
      ]
     },
     "execution_count": 4,
     "metadata": {},
     "output_type": "execute_result"
    }
   ],
   "source": [
    "graph.edges_dict"
   ]
  },
  {
   "cell_type": "code",
   "execution_count": 8,
   "id": "9d78fb64",
   "metadata": {},
   "outputs": [
    {
     "data": {
      "text/plain": [
       "{frozenset({'f', 'h'}),\n",
       " frozenset({'a', 'd'}),\n",
       " frozenset({'b', 'd', 'e'}),\n",
       " frozenset({'a', 'b', 'c'})}"
      ]
     },
     "execution_count": 8,
     "metadata": {},
     "output_type": "execute_result"
    }
   ],
   "source": [
    "graph.edges"
   ]
  },
  {
   "cell_type": "code",
   "execution_count": 10,
   "id": "34f0c589",
   "metadata": {},
   "outputs": [
    {
     "data": {
      "text/plain": [
       "matrix([[1., 0., 1., 0., 1.],\n",
       "        [0., 0., 0., 1., 1.],\n",
       "        [0., 0., 0., 0., 1.],\n",
       "        [0., 0., 1., 1., 0.],\n",
       "        [0., 0., 0., 1., 0.],\n",
       "        [0., 1., 0., 0., 0.],\n",
       "        [0., 1., 0., 0., 0.]])"
      ]
     },
     "execution_count": 10,
     "metadata": {},
     "output_type": "execute_result"
    }
   ],
   "source": [
    "graph.incidence_matrix()"
   ]
  },
  {
   "cell_type": "code",
   "execution_count": 6,
   "id": "41c740ea",
   "metadata": {},
   "outputs": [
    {
     "data": {
      "text/plain": [
       "True"
      ]
     },
     "execution_count": 6,
     "metadata": {},
     "output_type": "execute_result"
    }
   ],
   "source": [
    "vertex_connected(graph, 'a', 'e')"
   ]
  },
  {
   "cell_type": "code",
   "execution_count": 6,
   "id": "bde35c3f",
   "metadata": {},
   "outputs": [
    {
     "data": {
      "text/plain": [
       "False"
      ]
     },
     "execution_count": 6,
     "metadata": {},
     "output_type": "execute_result"
    }
   ],
   "source": [
    "vertex_connected(graph, 'f', 'e')"
   ]
  },
  {
   "cell_type": "code",
   "execution_count": 7,
   "id": "8365369b",
   "metadata": {},
   "outputs": [
    {
     "data": {
      "text/plain": [
       "True"
      ]
     },
     "execution_count": 7,
     "metadata": {},
     "output_type": "execute_result"
    }
   ],
   "source": [
    "vertex_connected(graph, 'f', 'h')"
   ]
  },
  {
   "cell_type": "code",
   "execution_count": 8,
   "id": "fbddb951",
   "metadata": {},
   "outputs": [
    {
     "data": {
      "text/plain": [
       "matrix([[2., 0., 0., 0., 0., 0., 0.],\n",
       "        [0., 2., 0., 0., 0., 0., 0.],\n",
       "        [0., 0., 1., 0., 0., 0., 0.],\n",
       "        [0., 0., 0., 2., 0., 0., 0.],\n",
       "        [0., 0., 0., 0., 1., 0., 0.],\n",
       "        [0., 0., 0., 0., 0., 1., 0.],\n",
       "        [0., 0., 0., 0., 0., 0., 1.]])"
      ]
     },
     "execution_count": 8,
     "metadata": {},
     "output_type": "execute_result"
    }
   ],
   "source": [
    "graph.diag_vertex()"
   ]
  },
  {
   "cell_type": "code",
   "execution_count": 9,
   "id": "e9444fcd",
   "metadata": {},
   "outputs": [
    {
     "data": {
      "text/plain": [
       "matrix([[3., 0., 0., 0.],\n",
       "        [0., 2., 0., 0.],\n",
       "        [0., 0., 3., 0.],\n",
       "        [0., 0., 0., 2.]])"
      ]
     },
     "execution_count": 9,
     "metadata": {},
     "output_type": "execute_result"
    }
   ],
   "source": [
    "graph.diag_edge()"
   ]
  },
  {
   "cell_type": "code",
   "execution_count": 11,
   "id": "fac9af47",
   "metadata": {},
   "outputs": [
    {
     "data": {
      "text/plain": [
       "False"
      ]
     },
     "execution_count": 11,
     "metadata": {},
     "output_type": "execute_result"
    }
   ],
   "source": [
    "graph_connected(graph)"
   ]
  },
  {
   "cell_type": "code",
   "execution_count": 12,
   "id": "5c5af433",
   "metadata": {},
   "outputs": [],
   "source": [
    "graph.remove_vertex('a')"
   ]
  },
  {
   "cell_type": "code",
   "execution_count": 13,
   "id": "041aba66",
   "metadata": {},
   "outputs": [
    {
     "data": {
      "text/plain": [
       "{'b', 'c', 'd', 'e', 'f', 'h'}"
      ]
     },
     "execution_count": 13,
     "metadata": {},
     "output_type": "execute_result"
    }
   ],
   "source": [
    "graph.vertices"
   ]
  },
  {
   "cell_type": "code",
   "execution_count": 14,
   "id": "af2cfb8b",
   "metadata": {},
   "outputs": [
    {
     "data": {
      "text/plain": [
       "{frozenset({'d'}),\n",
       " frozenset({'b', 'd', 'e'}),\n",
       " frozenset({'b', 'c'}),\n",
       " frozenset({'f', 'h'})}"
      ]
     },
     "execution_count": 14,
     "metadata": {},
     "output_type": "execute_result"
    }
   ],
   "source": [
    "graph.edges"
   ]
  },
  {
   "cell_type": "code",
   "execution_count": 15,
   "id": "1ac72ba0",
   "metadata": {},
   "outputs": [
    {
     "data": {
      "text/plain": [
       "{0: 'b', 1: 'c', 2: 'd', 3: 'e', 4: 'f', 5: 'h'}"
      ]
     },
     "execution_count": 15,
     "metadata": {},
     "output_type": "execute_result"
    }
   ],
   "source": [
    "graph.vertices_dict"
   ]
  },
  {
   "cell_type": "code",
   "execution_count": 16,
   "id": "d7f8f7ab",
   "metadata": {},
   "outputs": [
    {
     "data": {
      "text/plain": [
       "{0: frozenset({'d'}),\n",
       " 1: frozenset({'b', 'd', 'e'}),\n",
       " 2: frozenset({'b', 'c'}),\n",
       " 3: frozenset({'f', 'h'})}"
      ]
     },
     "execution_count": 16,
     "metadata": {},
     "output_type": "execute_result"
    }
   ],
   "source": [
    "graph.edges_dict"
   ]
  },
  {
   "cell_type": "code",
   "execution_count": 17,
   "id": "4e8778a8",
   "metadata": {},
   "outputs": [],
   "source": [
    "graph.remove_edge(['b', 'd', 'e'])"
   ]
  },
  {
   "cell_type": "code",
   "execution_count": 20,
   "id": "a3f7c6cc",
   "metadata": {},
   "outputs": [
    {
     "data": {
      "text/plain": [
       "{'b', 'c', 'd', 'e', 'f', 'h'}"
      ]
     },
     "execution_count": 20,
     "metadata": {},
     "output_type": "execute_result"
    }
   ],
   "source": [
    "graph.vertices"
   ]
  },
  {
   "cell_type": "code",
   "execution_count": 21,
   "id": "2c579837",
   "metadata": {},
   "outputs": [
    {
     "data": {
      "text/plain": [
       "{frozenset({'d'}), frozenset({'b', 'c'}), frozenset({'f', 'h'})}"
      ]
     },
     "execution_count": 21,
     "metadata": {},
     "output_type": "execute_result"
    }
   ],
   "source": [
    "graph.edges"
   ]
  },
  {
   "cell_type": "code",
   "execution_count": 18,
   "id": "ac36914a",
   "metadata": {},
   "outputs": [
    {
     "data": {
      "text/plain": [
       "{0: 'b', 1: 'c', 2: 'd', 3: 'e', 4: 'f', 5: 'h'}"
      ]
     },
     "execution_count": 18,
     "metadata": {},
     "output_type": "execute_result"
    }
   ],
   "source": [
    "graph.vertices_dict"
   ]
  },
  {
   "cell_type": "code",
   "execution_count": 19,
   "id": "256ff731",
   "metadata": {},
   "outputs": [
    {
     "data": {
      "text/plain": [
       "{0: frozenset({'d'}), 1: frozenset({'b', 'c'}), 2: frozenset({'f', 'h'})}"
      ]
     },
     "execution_count": 19,
     "metadata": {},
     "output_type": "execute_result"
    }
   ],
   "source": [
    "graph.edges_dict"
   ]
  },
  {
   "cell_type": "code",
   "execution_count": 22,
   "id": "740a54d2",
   "metadata": {},
   "outputs": [
    {
     "data": {
      "text/plain": [
       "matrix([[0., 1., 0.],\n",
       "        [0., 1., 0.],\n",
       "        [1., 0., 0.],\n",
       "        [0., 0., 0.],\n",
       "        [0., 0., 1.],\n",
       "        [0., 0., 1.]])"
      ]
     },
     "execution_count": 22,
     "metadata": {},
     "output_type": "execute_result"
    }
   ],
   "source": [
    "graph.incidence_matrix()"
   ]
  },
  {
   "cell_type": "code",
   "execution_count": 25,
   "id": "326c9a63",
   "metadata": {},
   "outputs": [],
   "source": [
    "graph = Create()\n",
    "graph.add_edge(['a', 'b', 'c'])\n",
    "graph.add_edge(['a', 'd'])\n",
    "graph.add_edge(['b', 'd', 'e'])\n",
    "graph.add_edge(['e', 'd', 'b'])\n",
    "graph.add_edge(['a'])\n",
    "graph.add_edge(['a', 'd', 'a'])"
   ]
  },
  {
   "cell_type": "code",
   "execution_count": 26,
   "id": "fd495290",
   "metadata": {},
   "outputs": [
    {
     "data": {
      "text/plain": [
       "True"
      ]
     },
     "execution_count": 26,
     "metadata": {},
     "output_type": "execute_result"
    }
   ],
   "source": [
    "graph_connected(graph)"
   ]
  },
  {
   "cell_type": "markdown",
   "id": "9414c35c",
   "metadata": {},
   "source": [
    "# Demo 2"
   ]
  },
  {
   "cell_type": "code",
   "execution_count": 28,
   "id": "3d4779fe",
   "metadata": {},
   "outputs": [
    {
     "data": {
      "text/plain": [
       "matrix([[1., 0., 0., 1.],\n",
       "        [1., 0., 1., 1.],\n",
       "        [0., 1., 0., 0.],\n",
       "        [0., 1., 0., 0.],\n",
       "        [1., 0., 0., 0.],\n",
       "        [0., 1., 0., 0.]])"
      ]
     },
     "execution_count": 28,
     "metadata": {},
     "output_type": "execute_result"
    }
   ],
   "source": [
    "graph = Create()\n",
    "graph.add_edge([1, 2, 5])\n",
    "graph.add_edge([1, 2])\n",
    "graph.add_edge([3, 6, 4])\n",
    "graph.add_edge([2])\n",
    "graph.incidence_matrix()"
   ]
  },
  {
   "cell_type": "code",
   "execution_count": 29,
   "id": "191c4deb",
   "metadata": {},
   "outputs": [
    {
     "data": {
      "text/plain": [
       "{0: 1, 1: 2, 2: 3, 3: 4, 4: 5, 5: 6}"
      ]
     },
     "execution_count": 29,
     "metadata": {},
     "output_type": "execute_result"
    }
   ],
   "source": [
    "graph.dict_of_vertices()"
   ]
  },
  {
   "cell_type": "code",
   "execution_count": 30,
   "id": "706f5376",
   "metadata": {},
   "outputs": [
    {
     "data": {
      "text/plain": [
       "{0: frozenset({1, 2, 5}),\n",
       " 1: frozenset({3, 4, 6}),\n",
       " 2: frozenset({2}),\n",
       " 3: frozenset({1, 2})}"
      ]
     },
     "execution_count": 30,
     "metadata": {},
     "output_type": "execute_result"
    }
   ],
   "source": [
    "graph.dict_of_edges()"
   ]
  },
  {
   "cell_type": "code",
   "execution_count": 31,
   "id": "85ba670c",
   "metadata": {},
   "outputs": [
    {
     "data": {
      "text/plain": [
       "False"
      ]
     },
     "execution_count": 31,
     "metadata": {},
     "output_type": "execute_result"
    }
   ],
   "source": [
    "vertex_connected(graph, 1, 3)"
   ]
  },
  {
   "cell_type": "code",
   "execution_count": 32,
   "id": "2e1d6f21",
   "metadata": {},
   "outputs": [
    {
     "name": "stdout",
     "output_type": "stream",
     "text": [
      "2.0\n",
      "3.0\n",
      "1.0\n",
      "1.0\n",
      "1.0\n",
      "1.0\n"
     ]
    }
   ],
   "source": [
    "for i in range(6):\n",
    "    print(graph.degree_vertex(graph.dict_of_vertices()[i]))"
   ]
  },
  {
   "cell_type": "code",
   "execution_count": 33,
   "id": "05ef8966",
   "metadata": {},
   "outputs": [
    {
     "data": {
      "text/plain": [
       "matrix([[2., 0., 0., 0., 0., 0.],\n",
       "        [0., 3., 0., 0., 0., 0.],\n",
       "        [0., 0., 1., 0., 0., 0.],\n",
       "        [0., 0., 0., 1., 0., 0.],\n",
       "        [0., 0., 0., 0., 1., 0.],\n",
       "        [0., 0., 0., 0., 0., 1.]])"
      ]
     },
     "execution_count": 33,
     "metadata": {},
     "output_type": "execute_result"
    }
   ],
   "source": [
    "graph.diag_vertex()"
   ]
  },
  {
   "cell_type": "code",
   "execution_count": 34,
   "id": "35750a7e",
   "metadata": {},
   "outputs": [
    {
     "name": "stdout",
     "output_type": "stream",
     "text": [
      "3.0\n",
      "3.0\n",
      "1.0\n",
      "2.0\n"
     ]
    }
   ],
   "source": [
    "for i in range(4):\n",
    "    print(graph.degree_edge(graph.dict_of_edges()[i]))"
   ]
  },
  {
   "cell_type": "code",
   "execution_count": 35,
   "id": "5e76c806",
   "metadata": {},
   "outputs": [
    {
     "data": {
      "text/plain": [
       "matrix([[3., 0., 0., 0.],\n",
       "        [0., 3., 0., 0.],\n",
       "        [0., 0., 1., 0.],\n",
       "        [0., 0., 0., 2.]])"
      ]
     },
     "execution_count": 35,
     "metadata": {},
     "output_type": "execute_result"
    }
   ],
   "source": [
    "graph.diag_edge()"
   ]
  },
  {
   "cell_type": "code",
   "execution_count": null,
   "id": "ce4c217e",
   "metadata": {},
   "outputs": [],
   "source": []
  }
 ],
 "metadata": {
  "kernelspec": {
   "display_name": "Python 3 (ipykernel)",
   "language": "python",
   "name": "python3"
  },
  "language_info": {
   "codemirror_mode": {
    "name": "ipython",
    "version": 3
   },
   "file_extension": ".py",
   "mimetype": "text/x-python",
   "name": "python",
   "nbconvert_exporter": "python",
   "pygments_lexer": "ipython3",
   "version": "3.10.9"
  }
 },
 "nbformat": 4,
 "nbformat_minor": 5
}
