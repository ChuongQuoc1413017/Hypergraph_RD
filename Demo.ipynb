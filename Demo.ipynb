{
 "cells": [
  {
   "cell_type": "code",
   "execution_count": 1,
   "id": "8ff12f5e",
   "metadata": {},
   "outputs": [],
   "source": [
    "from HyperRD.Hgraph import *\n",
    "from HyperRD.Halgorithm import *"
   ]
  },
  {
   "cell_type": "markdown",
   "id": "f865f059",
   "metadata": {},
   "source": [
    "# Demo 1 - Hypergraph with String Indexes"
   ]
  },
  {
   "cell_type": "code",
   "execution_count": 2,
   "id": "c6c29cb7",
   "metadata": {},
   "outputs": [],
   "source": [
    "graph = Create()\n",
    "graph.add_edge(['a', 'b', 'c'])\n",
    "graph.add_edge(['a', 'd'])\n",
    "graph.add_edge(['b', 'd', 'e'])\n",
    "graph.add_edge(['e', 'd', 'b'])\n",
    "graph.add_edge(['a'])\n",
    "graph.add_edge(['f', 'h'])\n",
    "graph.add_edge(['a', 'd', 'a'])"
   ]
  },
  {
   "cell_type": "code",
   "execution_count": 3,
   "id": "bf6d1e8e",
   "metadata": {},
   "outputs": [
    {
     "data": {
      "text/plain": [
       "{0: 'a', 1: 'b', 2: 'c', 3: 'd', 4: 'e', 5: 'f', 6: 'h'}"
      ]
     },
     "execution_count": 3,
     "metadata": {},
     "output_type": "execute_result"
    }
   ],
   "source": [
    "graph.vertices_dict"
   ]
  },
  {
   "cell_type": "code",
   "execution_count": 4,
   "id": "0dab0eda",
   "metadata": {},
   "outputs": [
    {
     "data": {
      "text/plain": [
       "{'a', 'b', 'c', 'd', 'e', 'f', 'h'}"
      ]
     },
     "execution_count": 4,
     "metadata": {},
     "output_type": "execute_result"
    }
   ],
   "source": [
    "graph.vertices"
   ]
  },
  {
   "cell_type": "code",
   "execution_count": 5,
   "id": "ac375f5b",
   "metadata": {},
   "outputs": [
    {
     "data": {
      "text/plain": [
       "{0: frozenset({'f', 'h'}),\n",
       " 1: frozenset({'a'}),\n",
       " 2: frozenset({'a', 'd'}),\n",
       " 3: frozenset({'b', 'd', 'e'}),\n",
       " 4: frozenset({'a', 'b', 'c'})}"
      ]
     },
     "execution_count": 5,
     "metadata": {},
     "output_type": "execute_result"
    }
   ],
   "source": [
    "graph.edges_dict"
   ]
  },
  {
   "cell_type": "code",
   "execution_count": 6,
   "id": "9d78fb64",
   "metadata": {},
   "outputs": [
    {
     "data": {
      "text/plain": [
       "{frozenset({'f', 'h'}),\n",
       " frozenset({'a'}),\n",
       " frozenset({'a', 'd'}),\n",
       " frozenset({'b', 'd', 'e'}),\n",
       " frozenset({'a', 'b', 'c'})}"
      ]
     },
     "execution_count": 6,
     "metadata": {},
     "output_type": "execute_result"
    }
   ],
   "source": [
    "graph.edges"
   ]
  },
  {
   "cell_type": "code",
   "execution_count": 7,
   "id": "34f0c589",
   "metadata": {},
   "outputs": [
    {
     "data": {
      "text/plain": [
       "matrix([[0., 1., 1., 0., 1.],\n",
       "        [0., 0., 0., 1., 1.],\n",
       "        [0., 0., 0., 0., 1.],\n",
       "        [0., 0., 1., 1., 0.],\n",
       "        [0., 0., 0., 1., 0.],\n",
       "        [1., 0., 0., 0., 0.],\n",
       "        [1., 0., 0., 0., 0.]])"
      ]
     },
     "execution_count": 7,
     "metadata": {},
     "output_type": "execute_result"
    }
   ],
   "source": [
    "graph.incidence_matrix()"
   ]
  },
  {
   "cell_type": "code",
   "execution_count": 8,
   "id": "41c740ea",
   "metadata": {},
   "outputs": [
    {
     "data": {
      "text/plain": [
       "True"
      ]
     },
     "execution_count": 8,
     "metadata": {},
     "output_type": "execute_result"
    }
   ],
   "source": [
    "vertex_connected(graph, 'a', 'e')"
   ]
  },
  {
   "cell_type": "code",
   "execution_count": 9,
   "id": "bde35c3f",
   "metadata": {},
   "outputs": [
    {
     "data": {
      "text/plain": [
       "False"
      ]
     },
     "execution_count": 9,
     "metadata": {},
     "output_type": "execute_result"
    }
   ],
   "source": [
    "vertex_connected(graph, 'f', 'e')"
   ]
  },
  {
   "cell_type": "code",
   "execution_count": 10,
   "id": "8365369b",
   "metadata": {},
   "outputs": [
    {
     "data": {
      "text/plain": [
       "True"
      ]
     },
     "execution_count": 10,
     "metadata": {},
     "output_type": "execute_result"
    }
   ],
   "source": [
    "vertex_connected(graph, 'f', 'h')"
   ]
  },
  {
   "cell_type": "code",
   "execution_count": 11,
   "id": "fbddb951",
   "metadata": {},
   "outputs": [
    {
     "data": {
      "text/plain": [
       "matrix([[3., 0., 0., 0., 0., 0., 0.],\n",
       "        [0., 2., 0., 0., 0., 0., 0.],\n",
       "        [0., 0., 1., 0., 0., 0., 0.],\n",
       "        [0., 0., 0., 2., 0., 0., 0.],\n",
       "        [0., 0., 0., 0., 1., 0., 0.],\n",
       "        [0., 0., 0., 0., 0., 1., 0.],\n",
       "        [0., 0., 0., 0., 0., 0., 1.]])"
      ]
     },
     "execution_count": 11,
     "metadata": {},
     "output_type": "execute_result"
    }
   ],
   "source": [
    "graph.diag_vertex()"
   ]
  },
  {
   "cell_type": "code",
   "execution_count": 12,
   "id": "e9444fcd",
   "metadata": {},
   "outputs": [
    {
     "data": {
      "text/plain": [
       "matrix([[2., 0., 0., 0., 0.],\n",
       "        [0., 1., 0., 0., 0.],\n",
       "        [0., 0., 2., 0., 0.],\n",
       "        [0., 0., 0., 3., 0.],\n",
       "        [0., 0., 0., 0., 3.]])"
      ]
     },
     "execution_count": 12,
     "metadata": {},
     "output_type": "execute_result"
    }
   ],
   "source": [
    "graph.diag_edge()"
   ]
  },
  {
   "cell_type": "code",
   "execution_count": 13,
   "id": "fac9af47",
   "metadata": {},
   "outputs": [
    {
     "data": {
      "text/plain": [
       "False"
      ]
     },
     "execution_count": 13,
     "metadata": {},
     "output_type": "execute_result"
    }
   ],
   "source": [
    "graph_connected(graph)"
   ]
  },
  {
   "cell_type": "code",
   "execution_count": 14,
   "id": "5c5af433",
   "metadata": {},
   "outputs": [],
   "source": [
    "graph.remove_vertex('a')"
   ]
  },
  {
   "cell_type": "code",
   "execution_count": 15,
   "id": "041aba66",
   "metadata": {},
   "outputs": [
    {
     "data": {
      "text/plain": [
       "{'b', 'c', 'd', 'e', 'f', 'h'}"
      ]
     },
     "execution_count": 15,
     "metadata": {},
     "output_type": "execute_result"
    }
   ],
   "source": [
    "graph.vertices"
   ]
  },
  {
   "cell_type": "code",
   "execution_count": 16,
   "id": "af2cfb8b",
   "metadata": {},
   "outputs": [
    {
     "data": {
      "text/plain": [
       "{frozenset({'d'}),\n",
       " frozenset({'b', 'd', 'e'}),\n",
       " frozenset({'f', 'h'}),\n",
       " frozenset({'b', 'c'})}"
      ]
     },
     "execution_count": 16,
     "metadata": {},
     "output_type": "execute_result"
    }
   ],
   "source": [
    "graph.edges"
   ]
  },
  {
   "cell_type": "code",
   "execution_count": 17,
   "id": "1ac72ba0",
   "metadata": {},
   "outputs": [
    {
     "data": {
      "text/plain": [
       "{0: 'b', 1: 'c', 2: 'd', 3: 'e', 4: 'f', 5: 'h'}"
      ]
     },
     "execution_count": 17,
     "metadata": {},
     "output_type": "execute_result"
    }
   ],
   "source": [
    "graph.vertices_dict"
   ]
  },
  {
   "cell_type": "code",
   "execution_count": 18,
   "id": "d7f8f7ab",
   "metadata": {},
   "outputs": [
    {
     "data": {
      "text/plain": [
       "{0: frozenset({'b', 'd', 'e'}),\n",
       " 1: frozenset({'d'}),\n",
       " 2: frozenset({'f', 'h'}),\n",
       " 3: frozenset({'b', 'c'})}"
      ]
     },
     "execution_count": 18,
     "metadata": {},
     "output_type": "execute_result"
    }
   ],
   "source": [
    "graph.edges_dict"
   ]
  },
  {
   "cell_type": "code",
   "execution_count": 19,
   "id": "4e8778a8",
   "metadata": {},
   "outputs": [],
   "source": [
    "graph.remove_edge(['b', 'd', 'e'])"
   ]
  },
  {
   "cell_type": "code",
   "execution_count": 20,
   "id": "a3f7c6cc",
   "metadata": {},
   "outputs": [
    {
     "data": {
      "text/plain": [
       "{'b', 'c', 'd', 'e', 'f', 'h'}"
      ]
     },
     "execution_count": 20,
     "metadata": {},
     "output_type": "execute_result"
    }
   ],
   "source": [
    "graph.vertices"
   ]
  },
  {
   "cell_type": "code",
   "execution_count": 21,
   "id": "2c579837",
   "metadata": {},
   "outputs": [
    {
     "data": {
      "text/plain": [
       "{frozenset({'d'}), frozenset({'f', 'h'}), frozenset({'b', 'c'})}"
      ]
     },
     "execution_count": 21,
     "metadata": {},
     "output_type": "execute_result"
    }
   ],
   "source": [
    "graph.edges"
   ]
  },
  {
   "cell_type": "code",
   "execution_count": 22,
   "id": "ac36914a",
   "metadata": {},
   "outputs": [
    {
     "data": {
      "text/plain": [
       "{0: 'b', 1: 'c', 2: 'd', 3: 'e', 4: 'f', 5: 'h'}"
      ]
     },
     "execution_count": 22,
     "metadata": {},
     "output_type": "execute_result"
    }
   ],
   "source": [
    "graph.vertices_dict"
   ]
  },
  {
   "cell_type": "code",
   "execution_count": 23,
   "id": "256ff731",
   "metadata": {},
   "outputs": [
    {
     "data": {
      "text/plain": [
       "{0: frozenset({'d'}), 1: frozenset({'f', 'h'}), 2: frozenset({'b', 'c'})}"
      ]
     },
     "execution_count": 23,
     "metadata": {},
     "output_type": "execute_result"
    }
   ],
   "source": [
    "graph.edges_dict"
   ]
  },
  {
   "cell_type": "code",
   "execution_count": 24,
   "id": "740a54d2",
   "metadata": {},
   "outputs": [
    {
     "data": {
      "text/plain": [
       "matrix([[0., 0., 1.],\n",
       "        [0., 0., 1.],\n",
       "        [1., 0., 0.],\n",
       "        [0., 0., 0.],\n",
       "        [0., 1., 0.],\n",
       "        [0., 1., 0.]])"
      ]
     },
     "execution_count": 24,
     "metadata": {},
     "output_type": "execute_result"
    }
   ],
   "source": [
    "graph.incidence_matrix()"
   ]
  },
  {
   "cell_type": "code",
   "execution_count": 25,
   "id": "326c9a63",
   "metadata": {},
   "outputs": [],
   "source": [
    "graph = Create()\n",
    "graph.add_edge(['a', 'b', 'c'])\n",
    "graph.add_edge(['a', 'd'])\n",
    "graph.add_edge(['b', 'd', 'e'])\n",
    "graph.add_edge(['e', 'd', 'b'])\n",
    "graph.add_edge(['a'])\n",
    "graph.add_edge(['a', 'd', 'a'])"
   ]
  },
  {
   "cell_type": "code",
   "execution_count": 26,
   "id": "fd495290",
   "metadata": {},
   "outputs": [
    {
     "data": {
      "text/plain": [
       "True"
      ]
     },
     "execution_count": 26,
     "metadata": {},
     "output_type": "execute_result"
    }
   ],
   "source": [
    "graph_connected(graph)"
   ]
  },
  {
   "cell_type": "markdown",
   "id": "9414c35c",
   "metadata": {},
   "source": [
    "# Demo 2 - Hypergraph with Numeric Indexes"
   ]
  },
  {
   "cell_type": "code",
   "execution_count": 27,
   "id": "3d4779fe",
   "metadata": {},
   "outputs": [
    {
     "data": {
      "text/plain": [
       "matrix([[1., 0., 0., 1.],\n",
       "        [1., 0., 1., 1.],\n",
       "        [0., 1., 0., 0.],\n",
       "        [0., 1., 0., 0.],\n",
       "        [1., 0., 0., 0.],\n",
       "        [0., 1., 0., 0.]])"
      ]
     },
     "execution_count": 27,
     "metadata": {},
     "output_type": "execute_result"
    }
   ],
   "source": [
    "graph = Create()\n",
    "graph.add_edge([1, 2, 5])\n",
    "graph.add_edge([1, 2])\n",
    "graph.add_edge([3, 6, 4])\n",
    "graph.add_edge([2])\n",
    "graph.incidence_matrix()"
   ]
  },
  {
   "cell_type": "code",
   "execution_count": 28,
   "id": "191c4deb",
   "metadata": {},
   "outputs": [
    {
     "data": {
      "text/plain": [
       "{0: 1, 1: 2, 2: 3, 3: 4, 4: 5, 5: 6}"
      ]
     },
     "execution_count": 28,
     "metadata": {},
     "output_type": "execute_result"
    }
   ],
   "source": [
    "graph.dict_of_vertices()"
   ]
  },
  {
   "cell_type": "code",
   "execution_count": 29,
   "id": "706f5376",
   "metadata": {},
   "outputs": [
    {
     "data": {
      "text/plain": [
       "{0: frozenset({1, 2, 5}),\n",
       " 1: frozenset({3, 4, 6}),\n",
       " 2: frozenset({2}),\n",
       " 3: frozenset({1, 2})}"
      ]
     },
     "execution_count": 29,
     "metadata": {},
     "output_type": "execute_result"
    }
   ],
   "source": [
    "graph.dict_of_edges()"
   ]
  },
  {
   "cell_type": "code",
   "execution_count": 30,
   "id": "85ba670c",
   "metadata": {},
   "outputs": [
    {
     "data": {
      "text/plain": [
       "False"
      ]
     },
     "execution_count": 30,
     "metadata": {},
     "output_type": "execute_result"
    }
   ],
   "source": [
    "vertex_connected(graph, 1, 3)"
   ]
  },
  {
   "cell_type": "code",
   "execution_count": 31,
   "id": "2e1d6f21",
   "metadata": {},
   "outputs": [
    {
     "name": "stdout",
     "output_type": "stream",
     "text": [
      "2.0\n",
      "3.0\n",
      "1.0\n",
      "1.0\n",
      "1.0\n",
      "1.0\n"
     ]
    }
   ],
   "source": [
    "for i in range(6):\n",
    "    print(graph.degree_vertex(graph.dict_of_vertices()[i]))"
   ]
  },
  {
   "cell_type": "code",
   "execution_count": 32,
   "id": "05ef8966",
   "metadata": {},
   "outputs": [
    {
     "data": {
      "text/plain": [
       "matrix([[2., 0., 0., 0., 0., 0.],\n",
       "        [0., 3., 0., 0., 0., 0.],\n",
       "        [0., 0., 1., 0., 0., 0.],\n",
       "        [0., 0., 0., 1., 0., 0.],\n",
       "        [0., 0., 0., 0., 1., 0.],\n",
       "        [0., 0., 0., 0., 0., 1.]])"
      ]
     },
     "execution_count": 32,
     "metadata": {},
     "output_type": "execute_result"
    }
   ],
   "source": [
    "graph.diag_vertex()"
   ]
  },
  {
   "cell_type": "code",
   "execution_count": 33,
   "id": "35750a7e",
   "metadata": {},
   "outputs": [
    {
     "name": "stdout",
     "output_type": "stream",
     "text": [
      "3.0\n",
      "3.0\n",
      "1.0\n",
      "2.0\n"
     ]
    }
   ],
   "source": [
    "for i in range(4):\n",
    "    print(graph.degree_edge(graph.dict_of_edges()[i]))"
   ]
  },
  {
   "cell_type": "code",
   "execution_count": 34,
   "id": "5e76c806",
   "metadata": {},
   "outputs": [
    {
     "data": {
      "text/plain": [
       "matrix([[3., 0., 0., 0.],\n",
       "        [0., 3., 0., 0.],\n",
       "        [0., 0., 1., 0.],\n",
       "        [0., 0., 0., 2.]])"
      ]
     },
     "execution_count": 34,
     "metadata": {},
     "output_type": "execute_result"
    }
   ],
   "source": [
    "graph.diag_edge()"
   ]
  },
  {
   "cell_type": "markdown",
   "id": "e5ccca69",
   "metadata": {},
   "source": [
    "# Demo 3 - Random Graph Generator"
   ]
  },
  {
   "cell_type": "code",
   "execution_count": 35,
   "id": "e4dd9c70",
   "metadata": {},
   "outputs": [],
   "source": [
    "from HyperRD.Hgraph import *\n",
    "from HyperRD.Hrandom import *"
   ]
  },
  {
   "cell_type": "code",
   "execution_count": 36,
   "id": "fd65c302",
   "metadata": {},
   "outputs": [
    {
     "data": {
      "text/plain": [
       "{0: frozenset({2}),\n",
       " 1: frozenset({5, 6}),\n",
       " 2: frozenset({0, 2, 3, 5, 6}),\n",
       " 3: frozenset({1, 6}),\n",
       " 4: frozenset({1, 3, 4}),\n",
       " 5: frozenset({0, 1, 4, 5})}"
      ]
     },
     "execution_count": 36,
     "metadata": {},
     "output_type": "execute_result"
    }
   ],
   "source": [
    "a = simple_bipartite(7, 15, 8, 0.5)\n",
    "a.edges_dict"
   ]
  },
  {
   "cell_type": "code",
   "execution_count": 37,
   "id": "0ac534f2",
   "metadata": {},
   "outputs": [
    {
     "data": {
      "text/plain": [
       "matrix([[0., 0., 1., 0., 0., 1.],\n",
       "        [0., 0., 0., 1., 1., 1.],\n",
       "        [1., 0., 1., 0., 0., 0.],\n",
       "        [0., 0., 1., 0., 1., 0.],\n",
       "        [0., 0., 0., 0., 1., 1.],\n",
       "        [0., 1., 1., 0., 0., 1.],\n",
       "        [0., 1., 1., 1., 0., 0.]])"
      ]
     },
     "execution_count": 37,
     "metadata": {},
     "output_type": "execute_result"
    }
   ],
   "source": [
    "a.inci_matrix"
   ]
  },
  {
   "cell_type": "code",
   "execution_count": 38,
   "id": "9c9e628e",
   "metadata": {},
   "outputs": [
    {
     "data": {
      "text/plain": [
       "{0: frozenset({2}),\n",
       " 1: frozenset({0, 2, 3}),\n",
       " 2: frozenset({0, 1}),\n",
       " 3: frozenset({0, 2}),\n",
       " 4: frozenset({1}),\n",
       " 5: frozenset({1, 3})}"
      ]
     },
     "execution_count": 38,
     "metadata": {},
     "output_type": "execute_result"
    }
   ],
   "source": [
    "a = simple_matrix(4, 8, 0.5)\n",
    "a.edges_dict"
   ]
  },
  {
   "cell_type": "code",
   "execution_count": 39,
   "id": "14c4556e",
   "metadata": {},
   "outputs": [
    {
     "data": {
      "text/plain": [
       "matrix([[0., 1., 1., 1., 0., 0.],\n",
       "        [0., 0., 1., 0., 1., 1.],\n",
       "        [1., 1., 0., 1., 0., 0.],\n",
       "        [0., 1., 0., 0., 0., 1.]])"
      ]
     },
     "execution_count": 39,
     "metadata": {},
     "output_type": "execute_result"
    }
   ],
   "source": [
    "a.inci_matrix"
   ]
  },
  {
   "cell_type": "code",
   "execution_count": 40,
   "id": "8fd1a482",
   "metadata": {},
   "outputs": [
    {
     "data": {
      "text/plain": [
       "{0: frozenset({0, 3, 4}),\n",
       " 1: frozenset({0, 2, 3}),\n",
       " 2: frozenset({1, 2, 4}),\n",
       " 3: frozenset({0, 1, 2}),\n",
       " 4: frozenset({1, 2, 3})}"
      ]
     },
     "execution_count": 40,
     "metadata": {},
     "output_type": "execute_result"
    }
   ],
   "source": [
    "a = k_uniform(5, 3, 0.5)\n",
    "a.edges_dict"
   ]
  },
  {
   "cell_type": "code",
   "execution_count": 41,
   "id": "df3f1a36",
   "metadata": {},
   "outputs": [
    {
     "data": {
      "text/plain": [
       "matrix([[1., 1., 0., 1., 0.],\n",
       "        [0., 0., 1., 1., 1.],\n",
       "        [0., 1., 1., 1., 1.],\n",
       "        [1., 1., 0., 0., 1.],\n",
       "        [1., 0., 1., 0., 0.]])"
      ]
     },
     "execution_count": 41,
     "metadata": {},
     "output_type": "execute_result"
    }
   ],
   "source": [
    "a.inci_matrix"
   ]
  },
  {
   "cell_type": "markdown",
   "id": "e2110935",
   "metadata": {},
   "source": [
    "# Demo 4 - Connected Components"
   ]
  },
  {
   "cell_type": "code",
   "execution_count": 2,
   "id": "95c3eabb",
   "metadata": {},
   "outputs": [],
   "source": [
    "graph = Create()\n",
    "graph.add_edge(['a', 'b', 'c'])\n",
    "graph.add_edge(['a', 'd'])\n",
    "graph.add_edge(['b', 'd', 'e'])\n",
    "graph.add_edge(['e', 'd', 'b'])\n",
    "graph.add_edge(['a'])\n",
    "graph.add_edge(['f', 'h'])\n",
    "graph.add_edge(['a', 'd', 'a'])"
   ]
  },
  {
   "cell_type": "code",
   "execution_count": 3,
   "id": "fc67d460",
   "metadata": {},
   "outputs": [
    {
     "data": {
      "text/plain": [
       "[['a', 'b', 'd', 'e', 'c'], ['f', 'h']]"
      ]
     },
     "execution_count": 3,
     "metadata": {},
     "output_type": "execute_result"
    }
   ],
   "source": [
    "components_connected(graph)"
   ]
  },
  {
   "cell_type": "code",
   "execution_count": 4,
   "id": "cac51fc9",
   "metadata": {},
   "outputs": [
    {
     "data": {
      "text/plain": [
       "{0: 'a', 1: 'b', 2: 'c', 3: 'd', 4: 'e', 5: 'f', 6: 'h'}"
      ]
     },
     "execution_count": 4,
     "metadata": {},
     "output_type": "execute_result"
    }
   ],
   "source": [
    "graph.vertices_dict"
   ]
  },
  {
   "cell_type": "code",
   "execution_count": 17,
   "id": "2fb2badb",
   "metadata": {},
   "outputs": [],
   "source": [
    "graph = Create()\n",
    "graph.add_edge(['a', 'k'])\n",
    "graph.add_edge(['a', 'l'])\n",
    "graph.add_edge(['b', 'd', 'e'])\n",
    "graph.add_edge(['j', 'e'])\n",
    "graph.add_edge(['a'])\n",
    "graph.add_edge(['f', 'h'])"
   ]
  },
  {
   "cell_type": "code",
   "execution_count": 18,
   "id": "5878a6cd",
   "metadata": {},
   "outputs": [
    {
     "data": {
      "text/plain": [
       "[['a', 'k', 'l'], ['b', 'd', 'e', 'j'], ['f', 'h']]"
      ]
     },
     "execution_count": 18,
     "metadata": {},
     "output_type": "execute_result"
    }
   ],
   "source": [
    "components_connected(graph)"
   ]
  },
  {
   "cell_type": "code",
   "execution_count": null,
   "id": "696b505b",
   "metadata": {},
   "outputs": [],
   "source": []
  }
 ],
 "metadata": {
  "kernelspec": {
   "display_name": "Python 3 (ipykernel)",
   "language": "python",
   "name": "python3"
  },
  "language_info": {
   "codemirror_mode": {
    "name": "ipython",
    "version": 3
   },
   "file_extension": ".py",
   "mimetype": "text/x-python",
   "name": "python",
   "nbconvert_exporter": "python",
   "pygments_lexer": "ipython3",
   "version": "3.10.9"
  }
 },
 "nbformat": 4,
 "nbformat_minor": 5
}
